{
  "nbformat": 4,
  "nbformat_minor": 0,
  "metadata": {
    "colab": {
      "provenance": [],
      "authorship_tag": "ABX9TyMqvINloA9fWmYIGZx/YWHd",
      "include_colab_link": true
    },
    "kernelspec": {
      "name": "python3",
      "display_name": "Python 3"
    },
    "language_info": {
      "name": "python"
    }
  },
  "cells": [
    {
      "cell_type": "markdown",
      "metadata": {
        "id": "view-in-github",
        "colab_type": "text"
      },
      "source": [
        "<a href=\"https://colab.research.google.com/github/Netravathi08/dsa/blob/main/occurance.ipynb\" target=\"_parent\"><img src=\"https://colab.research.google.com/assets/colab-badge.svg\" alt=\"Open In Colab\"/></a>"
      ]
    },
    {
      "cell_type": "code",
      "execution_count": 1,
      "metadata": {
        "colab": {
          "base_uri": "https://localhost:8080/"
        },
        "id": "9skHE7hyntBn",
        "outputId": "2b430a3f-7094-42d2-d187-7b7eb96991f1"
      },
      "outputs": [
        {
          "output_type": "stream",
          "name": "stdout",
          "text": [
            "<class 'type'>\n",
            "3\n",
            "5\n",
            "4\n",
            "2\n"
          ]
        }
      ],
      "source": [
        "#write a program to get the number of occurences of a specified element in array\n",
        "tuple1=(1,3,2,4,1,2,3,2,4,2,1,3,3,2)\n",
        "print(type(tuple))\n",
        "z=tuple1.count(1)\n",
        "print(z)\n",
        "y=tuple1.count(2)\n",
        "print(y)\n",
        "x=tuple1.count(3)\n",
        "print(x)\n",
        "u=tuple1.count(4)\n",
        "print(u)"
      ]
    },
    {
      "cell_type": "code",
      "source": [
        "#write a program to find out if in given array of integers contain any duplicate  items ,return if true if any values appears at least twice in array and return false if every element is unique\n",
        "list1=[1,2,3,1,3,4,6,5,3,4,]\n",
        "print(type(list1))\n",
        "x=list1.count(1)\n",
        "y=list1.count(2)\n",
        "z=list1.count(3)\n",
        "u=list1.count(4)\n",
        "v=list1.count(5)\n",
        "print(x,y,z,u,v)\n",
        "k=1\n",
        "print(k is not  x)\n",
        "print(k is not z)\n",
        "print(k is not y)\n",
        "print(k is not u)\n",
        "print(k is not v)\n"
      ],
      "metadata": {
        "colab": {
          "base_uri": "https://localhost:8080/"
        },
        "id": "APpN7I-UqPh7",
        "outputId": "c284f6aa-f891-4780-bcab-226073aceb19"
      },
      "execution_count": 15,
      "outputs": [
        {
          "output_type": "stream",
          "name": "stdout",
          "text": [
            "<class 'list'>\n",
            "2 1 3 2 1\n",
            "True\n",
            "True\n",
            "False\n",
            "True\n",
            "False\n"
          ]
        }
      ]
    },
    {
      "cell_type": "code",
      "source": [
        "#write a program to reverse the content of the array\n",
        "list1=[1,2,3,4,5,6]\n",
        "print(type(list1))\n",
        "list.reverse(list1)\n",
        "print(list1)"
      ],
      "metadata": {
        "colab": {
          "base_uri": "https://localhost:8080/"
        },
        "id": "tVcsIEEOsmVk",
        "outputId": "747bd519-5b7d-4f3f-e24f-5a1d46a53128"
      },
      "execution_count": 12,
      "outputs": [
        {
          "output_type": "stream",
          "name": "stdout",
          "text": [
            "<class 'list'>\n",
            "[6, 5, 4, 3, 2, 1]\n"
          ]
        }
      ]
    },
    {
      "cell_type": "code",
      "source": [
        "#write a program to check the equality of two array\n",
        "list1=[1,3,5,2,6,7]\n",
        "list2=[2,3,4,2,5,7]\n",
        "print(list1[0]==list2[0]&list1[1]==list2[1]&list1[2]==list2[2]&list1[3]==list2[3]&list1[4]==list2[4]&list1[5]==list2[5])"
      ],
      "metadata": {
        "colab": {
          "base_uri": "https://localhost:8080/"
        },
        "id": "VdlbLBYnuGhl",
        "outputId": "769774d6-5d4f-44ce-e64f-dc0630df0542"
      },
      "execution_count": 13,
      "outputs": [
        {
          "output_type": "stream",
          "name": "stdout",
          "text": [
            "False\n"
          ]
        }
      ]
    },
    {
      "cell_type": "code",
      "source": [
        "#write a program to get current memory address and length in the elements of buffer used to hold an array contents also find the size of memory buffer in bytes\n",
        "list1=[1,3,5,2,6,7]\n",
        "print(list1.index(2))\n",
        "print(len(list1))\n",
        "print(id(list1))\n",
        "import numpy as np\n",
        "list1=np.array(list1)\n",
        "print(\"bytes=\",list1.size*list1.itemsize)"
      ],
      "metadata": {
        "colab": {
          "base_uri": "https://localhost:8080/"
        },
        "id": "4nIb2iRgwT-A",
        "outputId": "992dbc94-c5e2-47e6-fedb-3288a9c793ec"
      },
      "execution_count": 14,
      "outputs": [
        {
          "output_type": "stream",
          "name": "stdout",
          "text": [
            "3\n",
            "6\n",
            "140597732982976\n",
            "bytes= 48\n"
          ]
        }
      ]
    }
  ]
}