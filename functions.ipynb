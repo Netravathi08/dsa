{
  "nbformat": 4,
  "nbformat_minor": 0,
  "metadata": {
    "colab": {
      "provenance": [],
      "authorship_tag": "ABX9TyM2Mx887VkDZjPcIAtPh2Nw",
      "include_colab_link": true
    },
    "kernelspec": {
      "name": "python3",
      "display_name": "Python 3"
    },
    "language_info": {
      "name": "python"
    }
  },
  "cells": [
    {
      "cell_type": "markdown",
      "metadata": {
        "id": "view-in-github",
        "colab_type": "text"
      },
      "source": [
        "<a href=\"https://colab.research.google.com/github/Netravathi08/dsa/blob/main/functions.ipynb\" target=\"_parent\"><img src=\"https://colab.research.google.com/assets/colab-badge.svg\" alt=\"Open In Colab\"/></a>"
      ]
    },
    {
      "cell_type": "code",
      "execution_count": 4,
      "metadata": {
        "colab": {
          "base_uri": "https://localhost:8080/"
        },
        "id": "1vWxjJ8dsk_K",
        "outputId": "708eea8b-e295-48d6-cb18-36ecff0892f9"
      },
      "outputs": [
        {
          "output_type": "stream",
          "name": "stdout",
          "text": [
            "no of pieces= 5\n",
            "flavour is = choclate\n",
            "size is = 2kg\n"
          ]
        }
      ],
      "source": [
        "def cake_baker(p,f,s):\n",
        "  print(\"no of pieces=\",p)\n",
        "  print(\"flavour is =\",f)\n",
        "  print(\"size is =\",s )\n",
        "\n",
        "cake_baker(\"5\",\"choclate\",\"2kg\")"
      ]
    },
    {
      "cell_type": "code",
      "source": [
        "def add(*args):\n",
        "  sum=0\n",
        "  for i in args:\n",
        "    sum+= i\n",
        "  return sum\n",
        "print(add(1,2,3))"
      ],
      "metadata": {
        "colab": {
          "base_uri": "https://localhost:8080/"
        },
        "id": "BmVzYLqiweXV",
        "outputId": "a416869d-615e-4c7c-b8a0-1b07adbd6fa5"
      },
      "execution_count": 7,
      "outputs": [
        {
          "output_type": "stream",
          "name": "stdout",
          "text": [
            "6\n"
          ]
        }
      ]
    },
    {
      "cell_type": "code",
      "source": [
        "def greet(**kwargs):\n",
        "  print(\"hello\")\n",
        "  for key,value in kwargs.items():\n",
        "   print(value,end=\" \")\n",
        "greet(name=\"netra\",usn=\"01fe21bei029\",branch=\"ecii\")"
      ],
      "metadata": {
        "colab": {
          "base_uri": "https://localhost:8080/"
        },
        "id": "QGU1rLhQyMIB",
        "outputId": "de40f4d9-9839-4a94-d04f-1ba3199ffe1a"
      },
      "execution_count": 9,
      "outputs": [
        {
          "output_type": "stream",
          "name": "stdout",
          "text": [
            "hello\n",
            "netra 01fe21bei029 ecii "
          ]
        }
      ]
    },
    {
      "cell_type": "markdown",
      "source": [
        "random module\n"
      ],
      "metadata": {
        "id": "7WUyj4_yz95-"
      }
    },
    {
      "cell_type": "code",
      "source": [
        "import random\n",
        "x=random.randint(1,9)\n",
        "print(x)"
      ],
      "metadata": {
        "colab": {
          "base_uri": "https://localhost:8080/"
        },
        "id": "8LYNYNWPzpT9",
        "outputId": "1eb53a0c-cde7-4c42-cd71-2e09ac0cf8e8"
      },
      "execution_count": 11,
      "outputs": [
        {
          "output_type": "stream",
          "name": "stdout",
          "text": [
            "1\n"
          ]
        }
      ]
    },
    {
      "cell_type": "markdown",
      "source": [
        "floating num using random modul"
      ],
      "metadata": {
        "id": "QHrqf4U50jY0"
      }
    },
    {
      "cell_type": "code",
      "source": [
        "import random\n",
        "x=random.randint(1,9)\n",
        "print(x)\n",
        "a=random.random()\n",
        "print(a)"
      ],
      "metadata": {
        "colab": {
          "base_uri": "https://localhost:8080/"
        },
        "id": "Kgab6CP20pai",
        "outputId": "c3846faf-d22d-4e34-bdb3-6877264dbf82"
      },
      "execution_count": 12,
      "outputs": [
        {
          "output_type": "stream",
          "name": "stdout",
          "text": [
            "3\n",
            "0.5124200988003556\n"
          ]
        }
      ]
    },
    {
      "cell_type": "markdown",
      "source": [
        "lottery game"
      ],
      "metadata": {
        "id": "xjuyPPkr1Feu"
      }
    },
    {
      "cell_type": "code",
      "source": [
        "import random\n",
        "x=random.randint(1,9)\n",
        "y=int(input(\"enter the number\"))\n",
        "print(x)\n",
        "print(y)\n",
        "if x>y:\n",
        "  print('x won')\n",
        "elif x==y:\n",
        "  print('tie')\n",
        "else:\n",
        "  print('y won')"
      ],
      "metadata": {
        "colab": {
          "base_uri": "https://localhost:8080/"
        },
        "id": "rhCnBODq1EcN",
        "outputId": "8ab1bcb0-0b17-4f11-ec25-4d6e4a48d6ff"
      },
      "execution_count": 14,
      "outputs": [
        {
          "output_type": "stream",
          "name": "stdout",
          "text": [
            "enter the number3\n",
            "5\n",
            "3\n",
            "x won\n"
          ]
        }
      ]
    },
    {
      "cell_type": "markdown",
      "source": [
        "rock paper scissors\n"
      ],
      "metadata": {
        "id": "Dk38Zytn2wVT"
      }
    },
    {
      "cell_type": "code",
      "source": [
        "import random\n",
        "gamelist=['rock','paper','scissor']\n",
        "x=random.choice(gamelist)\n",
        "\n",
        "y=(input(\"enter \"))\n",
        "print(x)\n",
        "print(y)\n",
        "if x==\"rock\"and y==\"paper\":\n",
        "  print('x won')\n",
        "elif x==\"paper\"and y==\"scissor\":\n",
        "  print('you won')\n",
        "elif y==\"paper\"and x==\"scissor\":\n",
        "  print('computer won')\n",
        "else:\n",
        "  print('tie')"
      ],
      "metadata": {
        "colab": {
          "base_uri": "https://localhost:8080/"
        },
        "id": "RgiWzZ7W20BG",
        "outputId": "14fdbfc4-1370-47f1-dd8f-55245b797471"
      },
      "execution_count": 17,
      "outputs": [
        {
          "output_type": "stream",
          "name": "stdout",
          "text": [
            "enter paper\n",
            "scissor\n",
            "paper\n",
            "computer won\n"
          ]
        }
      ]
    },
    {
      "cell_type": "code",
      "source": [],
      "metadata": {
        "id": "oTajwQ3_5Pc_"
      },
      "execution_count": null,
      "outputs": []
    }
  ]
}