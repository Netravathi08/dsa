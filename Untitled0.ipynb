{
  "nbformat": 4,
  "nbformat_minor": 0,
  "metadata": {
    "colab": {
      "provenance": [],
      "authorship_tag": "ABX9TyO/M7kGAluTVWS75/Kjsmmr",
      "include_colab_link": true
    },
    "kernelspec": {
      "name": "python3",
      "display_name": "Python 3"
    },
    "language_info": {
      "name": "python"
    }
  },
  "cells": [
    {
      "cell_type": "markdown",
      "metadata": {
        "id": "view-in-github",
        "colab_type": "text"
      },
      "source": [
        "<a href=\"https://colab.research.google.com/github/Netravathi08/dsa/blob/main/Untitled0.ipynb\" target=\"_parent\"><img src=\"https://colab.research.google.com/assets/colab-badge.svg\" alt=\"Open In Colab\"/></a>"
      ]
    },
    {
      "cell_type": "code",
      "source": [
        "#list"
      ],
      "metadata": {
        "id": "lT7P5z-24260"
      },
      "execution_count": null,
      "outputs": []
    },
    {
      "cell_type": "code",
      "execution_count": 1,
      "metadata": {
        "colab": {
          "base_uri": "https://localhost:8080/"
        },
        "id": "wElm0TKeow4-",
        "outputId": "d48d2734-29d8-4706-e436-058a03ac969a"
      },
      "outputs": [
        {
          "output_type": "stream",
          "name": "stdout",
          "text": [
            "['harry', 'wizard', 'dumbeldore']\n"
          ]
        }
      ],
      "source": [
        "#create list\n",
        "potter=[\"harry\",'wizard',\"dumbeldore\"]\n",
        "print(potter)"
      ]
    },
    {
      "cell_type": "code",
      "source": [
        "list1=[\"physics\",'chemistry',2000,1999]\n",
        "list2=[1,2,3,4,5,6,7]\n",
        "print(\"list[0]:\",list1[0])\n",
        "print(\"list2[1:5]:\",list2[:])"
      ],
      "metadata": {
        "colab": {
          "base_uri": "https://localhost:8080/"
        },
        "id": "i95N_M-zpKwB",
        "outputId": "d8def966-1612-4e2d-e99c-61be274895ba"
      },
      "execution_count": 2,
      "outputs": [
        {
          "output_type": "stream",
          "name": "stdout",
          "text": [
            "list[0]: physics\n",
            "list2[1:5]: [1, 2, 3, 4, 5, 6, 7]\n"
          ]
        }
      ]
    },
    {
      "cell_type": "code",
      "source": [
        "#add element to a list\n",
        "#using append()\n",
        "numbers=[21,34,54,12]\n",
        "print(\"before append:\",numbers)\n",
        "#using append methode\n",
        "numbers.append(32)\n",
        "print(\"after append:\",numbers)"
      ],
      "metadata": {
        "colab": {
          "base_uri": "https://localhost:8080/"
        },
        "id": "up1fU1LcqgOp",
        "outputId": "057a8494-862d-4ab8-f3fc-6c7a8c069a2e"
      },
      "execution_count": 4,
      "outputs": [
        {
          "output_type": "stream",
          "name": "stdout",
          "text": [
            "before append: [21, 34, 54, 12]\n",
            "after append: [21, 34, 54, 12, 32]\n"
          ]
        }
      ]
    },
    {
      "cell_type": "code",
      "source": [
        "#add elements to a list\n",
        "#using extend()\n",
        "numbers=[1,3,5]\n",
        "even_numbers=[\"netra\",\"bikki\",\"ganesh\"]\n",
        "#add elements of even_numbers to the number list\n",
        "numbers.extend(even_numbers)\n",
        "print(\"list after extend:\",numbers)"
      ],
      "metadata": {
        "colab": {
          "base_uri": "https://localhost:8080/"
        },
        "id": "BY0zKJtKr4m_",
        "outputId": "55f301cf-d3b3-4624-80eb-648e42e39fad"
      },
      "execution_count": 5,
      "outputs": [
        {
          "output_type": "stream",
          "name": "stdout",
          "text": [
            "list after extend: [1, 3, 5, 'netra', 'bikki', 'ganesh']\n"
          ]
        }
      ]
    },
    {
      "cell_type": "code",
      "source": [
        "#adding element to empty list using append\n",
        "list1=[]\n",
        "even_num=[1,2,3,4]\n",
        "list1.append(even_num)\n",
        "print(list1)"
      ],
      "metadata": {
        "colab": {
          "base_uri": "https://localhost:8080/"
        },
        "id": "2b_Wh_Iks46n",
        "outputId": "86bed18e-0412-4f07-8433-435e931fbfda"
      },
      "execution_count": 9,
      "outputs": [
        {
          "output_type": "stream",
          "name": "stdout",
          "text": [
            "[[1, 2, 3, 4]]\n"
          ]
        }
      ]
    },
    {
      "cell_type": "code",
      "source": [
        "#updating list\n",
        "list=['physics','chemistry',1997,2000]\n",
        "print(\"value available at index 2:\")\n",
        "print( list[2])\n",
        "list[2]=2001\n",
        "print (\"new value available at index 2:\")\n",
        "print (list[2])\n",
        "\n"
      ],
      "metadata": {
        "colab": {
          "base_uri": "https://localhost:8080/"
        },
        "id": "gSXgin2jt6oR",
        "outputId": "0dc4c5fa-9088-4c21-d777-286de1136139"
      },
      "execution_count": 15,
      "outputs": [
        {
          "output_type": "stream",
          "name": "stdout",
          "text": [
            "value available at index 2:\n",
            "1997\n",
            "new value available at index 2:\n",
            "2001\n"
          ]
        }
      ]
    },
    {
      "cell_type": "code",
      "source": [
        "#add element to a list\n",
        "#using insert()\n",
        "number=[21,34,54,12]\n",
        "#insert an element at index 1(second position)\n",
        "number.insert(1,20)\n",
        "print(number)\n",
        "print(len(number))"
      ],
      "metadata": {
        "colab": {
          "base_uri": "https://localhost:8080/"
        },
        "id": "A5OnEb1urY3f",
        "outputId": "774fa66e-eaaf-4164-b50a-4f9ba0cb2164"
      },
      "execution_count": 10,
      "outputs": [
        {
          "output_type": "stream",
          "name": "stdout",
          "text": [
            "[21, 20, 34, 54, 12]\n",
            "5\n"
          ]
        }
      ]
    },
    {
      "cell_type": "code",
      "source": [
        "#delete function\n",
        "thislist=['apple','banana','cherry']\n",
        "del thislist[0]\n",
        "print(thislist)\n",
        "print(type(thislist))"
      ],
      "metadata": {
        "colab": {
          "base_uri": "https://localhost:8080/"
        },
        "id": "VnDL_WBVxJ9v",
        "outputId": "e9e0a3a2-f4f9-4c86-cf51-c4a510c1687d"
      },
      "execution_count": 17,
      "outputs": [
        {
          "output_type": "stream",
          "name": "stdout",
          "text": [
            "['banana', 'cherry']\n",
            "<class 'list'>\n"
          ]
        }
      ]
    },
    {
      "cell_type": "code",
      "source": [
        "#clear function\n",
        "thislist=['apple','banana','cherry']\n",
        "thislist.clear()\n",
        "print(thislist)\n"
      ],
      "metadata": {
        "colab": {
          "base_uri": "https://localhost:8080/"
        },
        "id": "lwFNDQ3cv1bo",
        "outputId": "2dc7b2a8-19f5-4d09-adca-ea91650e572c"
      },
      "execution_count": 22,
      "outputs": [
        {
          "output_type": "stream",
          "name": "stdout",
          "text": [
            "[]\n"
          ]
        }
      ]
    },
    {
      "cell_type": "code",
      "source": [
        "#lets have look at the list example in detail\n",
        "emp=[\"john\",102,\"usa\"]\n",
        "dep1=['cs',10]\n",
        "dep2=['it',11]\n",
        "hod_cs=[10,\"mr.holding\"]\n",
        "hod_it=[11,\"mr.bewon\"]\n",
        "print(\"name:\",emp[0],\"id:\",emp[1],\"country:\",emp[2])\n",
        "print(\"departments...\")\n",
        "print(\"department 1:\",\"name:\",dep1[0],\"id:\",dep1[1])\n",
        "print(\"department 2:\",\"name:\",dep2[0],\"id:\",dep2[1])\n",
        "print(\"hod details\")\n",
        "print(\"cs hod name:\",hod_cs[1],\"id:\",hod_cs[0])\n",
        "print(\"it_hod name:\",hod_it[1],\"id:\",hod_it[0])\n",
        "print(type(emp))\n",
        "print(type(dep1))\n",
        "print(type(dep2))\n",
        "print(type(hod_cs))\n",
        "print(type(hod_it))\n"
      ],
      "metadata": {
        "colab": {
          "base_uri": "https://localhost:8080/"
        },
        "id": "gHUgo0PizQOQ",
        "outputId": "69c3287f-741d-4107-da4a-e0bb1d4d0bc4"
      },
      "execution_count": 25,
      "outputs": [
        {
          "output_type": "stream",
          "name": "stdout",
          "text": [
            "name: john id: 102 country: usa\n",
            "departments...\n",
            "department 1: name: cs id: 10\n",
            "department 2: name: it id: 11\n",
            "hod details\n",
            "cs hod name: mr.holding id: 10\n",
            "it_hod name: mr.bewon id: 11\n",
            "<class 'list'>\n",
            "<class 'list'>\n",
            "<class 'list'>\n",
            "<class 'list'>\n",
            "<class 'list'>\n"
          ]
        }
      ]
    },
    {
      "cell_type": "code",
      "source": [
        "#sort\n",
        "lis=['kk','aa','bb','igk']\n",
        "lis.sort()\n",
        "print(lis)"
      ],
      "metadata": {
        "colab": {
          "base_uri": "https://localhost:8080/"
        },
        "id": "UKs5bLTL4Hsq",
        "outputId": "5dd66675-f108-42d8-99cb-dca29b83b26b"
      },
      "execution_count": 26,
      "outputs": [
        {
          "output_type": "stream",
          "name": "stdout",
          "text": [
            "['aa', 'bb', 'igk', 'kk']\n"
          ]
        }
      ]
    }
  ]
}