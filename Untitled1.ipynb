{
  "nbformat": 4,
  "nbformat_minor": 0,
  "metadata": {
    "colab": {
      "provenance": [],
      "authorship_tag": "ABX9TyNgO0xKs/7lesYxaYGVWgLA",
      "include_colab_link": true
    },
    "kernelspec": {
      "name": "python3",
      "display_name": "Python 3"
    },
    "language_info": {
      "name": "python"
    }
  },
  "cells": [
    {
      "cell_type": "markdown",
      "metadata": {
        "id": "view-in-github",
        "colab_type": "text"
      },
      "source": [
        "<a href=\"https://colab.research.google.com/github/Netravathi08/dsa/blob/main/Untitled1.ipynb\" target=\"_parent\"><img src=\"https://colab.research.google.com/assets/colab-badge.svg\" alt=\"Open In Colab\"/></a>"
      ]
    },
    {
      "cell_type": "code",
      "execution_count": null,
      "metadata": {
        "id": "ZPal1ISG5G3B"
      },
      "outputs": [],
      "source": [
        "#tupal"
      ]
    },
    {
      "cell_type": "code",
      "source": [
        "thistupil=(\"apple\",\"banana\",\"cherry\")\n",
        "print(thistupil)\n"
      ],
      "metadata": {
        "colab": {
          "base_uri": "https://localhost:8080/"
        },
        "id": "eLecQwmc5JXm",
        "outputId": "40007316-a441-4c37-9843-330c4c3c59b0"
      },
      "execution_count": 1,
      "outputs": [
        {
          "output_type": "stream",
          "name": "stdout",
          "text": [
            "('apple', 'banana', 'cherry')\n"
          ]
        }
      ]
    },
    {
      "cell_type": "code",
      "source": [
        "t1=(101,\"peter\",22)\n",
        "t2=(\"apple\",\"banana\",\"cherry\")\n",
        "y=list(t1)\n",
        "x=list(t2)\n",
        "y.append(t2)\n",
        "t1=tuple(y)\n",
        "print(t1)"
      ],
      "metadata": {
        "colab": {
          "base_uri": "https://localhost:8080/"
        },
        "id": "-b_lEViG5v10",
        "outputId": "0603428e-3863-4924-9c3b-2b0e34755861"
      },
      "execution_count": 2,
      "outputs": [
        {
          "output_type": "stream",
          "name": "stdout",
          "text": [
            "(101, 'peter', 22, ('apple', 'banana', 'cherry'))\n"
          ]
        }
      ]
    },
    {
      "cell_type": "code",
      "source": [
        "#sets\n"
      ],
      "metadata": {
        "id": "W5fdk5E-6vto"
      },
      "execution_count": null,
      "outputs": []
    },
    {
      "cell_type": "code",
      "source": [
        "namset={\"john\",\"janu\",\"aishu\"}\n",
        "namset.add(\"tanay\")\n",
        "print(namset)"
      ],
      "metadata": {
        "colab": {
          "base_uri": "https://localhost:8080/"
        },
        "id": "PZChIcRx8IBj",
        "outputId": "f43897cb-77c2-4f27-a651-e5c899aecb61"
      },
      "execution_count": 6,
      "outputs": [
        {
          "output_type": "stream",
          "name": "stdout",
          "text": [
            "{'aishu', 'tanay', 'john', 'janu'}\n"
          ]
        }
      ]
    },
    {
      "cell_type": "code",
      "source": [
        "firstset={2,3,4,5}\n",
        "secondset={1,3,5,7}\n",
        "print(firstset|secondset)\n"
      ],
      "metadata": {
        "colab": {
          "base_uri": "https://localhost:8080/"
        },
        "id": "y_ThF0lc-Ebk",
        "outputId": "08094bb7-f585-44ff-c63e-b8f100a5f3c9"
      },
      "execution_count": 2,
      "outputs": [
        {
          "output_type": "stream",
          "name": "stdout",
          "text": [
            "{1, 2, 3, 4, 5, 7}\n"
          ]
        }
      ]
    },
    {
      "cell_type": "code",
      "source": [
        "firstset={2,3,4,5}\n",
        "secondset={1,3,5,7}\n",
        "print(firstset&secondset)\n"
      ],
      "metadata": {
        "colab": {
          "base_uri": "https://localhost:8080/"
        },
        "id": "Vv8jN_ViAH6Q",
        "outputId": "b5259d16-18c6-49d9-d105-04be96470932"
      },
      "execution_count": 3,
      "outputs": [
        {
          "output_type": "stream",
          "name": "stdout",
          "text": [
            "{3, 5}\n"
          ]
        }
      ]
    },
    {
      "cell_type": "code",
      "source": [
        "firstset={2,3,4,5}\n",
        "secondset={1,3,5,7}\n",
        "print(firstset^secondset)"
      ],
      "metadata": {
        "colab": {
          "base_uri": "https://localhost:8080/"
        },
        "id": "A0VySiuuATTy",
        "outputId": "11fb65e4-492c-4059-d728-88853cadacc2"
      },
      "execution_count": 4,
      "outputs": [
        {
          "output_type": "stream",
          "name": "stdout",
          "text": [
            "{1, 2, 4, 7}\n"
          ]
        }
      ]
    },
    {
      "cell_type": "code",
      "source": [
        "set1={\"tanay\",\"aishwarya\",\"netra\"}\n",
        "set1.add(\"orange\")\n",
        "print(set1)\n",
        "set2={\"varun\",\"dheeraj\",\"shiggavi\"}\n",
        "set1.update(set2)\n",
        "print(set1)"
      ],
      "metadata": {
        "colab": {
          "base_uri": "https://localhost:8080/"
        },
        "id": "XJIJvBeOAhiJ",
        "outputId": "cc4954e1-8fa7-4915-ff7c-e14fb151254a"
      },
      "execution_count": 5,
      "outputs": [
        {
          "output_type": "stream",
          "name": "stdout",
          "text": [
            "{'tanay', 'orange', 'aishwarya', 'netra'}\n",
            "{'tanay', 'aishwarya', 'varun', 'dheeraj', 'orange', 'shiggavi', 'netra'}\n"
          ]
        }
      ]
    },
    {
      "cell_type": "code",
      "source": [
        "#accessing the dictonary values\n",
        "#creating empty dictonary\n",
        "dict={}\n",
        "print(\"empty dictonary:\")\n",
        "print(dict)\n",
        "#adding elements to dictonary one at a time\n",
        "dict[0]='peter'\n",
        "dict[2]='joseph'\n",
        "dict[3]='ricky'\n",
        "print(\"\\no dictonary after adding 3 elements\")\n",
        "print(dict)\n",
        "#adding set of values\n",
        "#with a single key\n",
        "#the emp_ages doesn't exist to dictonary\n",
        "dict['emp_ages']=20,33,24\n",
        "print(\"\\no dictinary after adding elements:\")\n",
        "print(dict)"
      ],
      "metadata": {
        "colab": {
          "base_uri": "https://localhost:8080/"
        },
        "id": "AFQV2J87CbqF",
        "outputId": "28237bc6-3051-4778-a079-ff94c03022ba"
      },
      "execution_count": 7,
      "outputs": [
        {
          "output_type": "stream",
          "name": "stdout",
          "text": [
            "empty dictonary:\n",
            "{}\n",
            "\n",
            "o dictonary after adding 3 elements\n",
            "{0: 'peter', 2: 'joseph', 3: 'ricky'}\n",
            "\n",
            "o dictinary after adding elements:\n",
            "{0: 'peter', 2: 'joseph', 3: 'ricky', 'emp_ages': (20, 33, 24)}\n"
          ]
        }
      ]
    },
    {
      "cell_type": "code",
      "source": [
        "emp={\"name\":\"john\",\"age\":29,\"salary\":25000,\"company\":\"google\"}\n",
        "print(type(emp))\n",
        "print(\"printing emp data....\")\n",
        "print(emp)\n"
      ],
      "metadata": {
        "colab": {
          "base_uri": "https://localhost:8080/"
        },
        "id": "8OA_fwylHkeO",
        "outputId": "aee8a958-5515-4d14-a52c-80a203da29d6"
      },
      "execution_count": 8,
      "outputs": [
        {
          "output_type": "stream",
          "name": "stdout",
          "text": [
            "<class 'dict'>\n",
            "printing emp data....\n",
            "{'name': 'john', 'age': 29, 'salary': 25000, 'company': 'google'}\n"
          ]
        }
      ]
    }
  ]
}